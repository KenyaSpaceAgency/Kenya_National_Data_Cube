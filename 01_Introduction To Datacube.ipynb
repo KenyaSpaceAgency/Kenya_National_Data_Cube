{
 "cells": [
  {
   "cell_type": "markdown",
   "id": "dc4ad524-e396-4167-bc06-15295f1922d1",
   "metadata": {},
   "source": [
    "# Datacube\n",
    " A data cube, in the context of data analysis and data management, refers to a multidimensional array or structure that allows for efficient querying and analysis of large datasets. Data cubes are used to organize and represent data in a way that facilitates exploration along multiple dimensions. Here are some key capabilities and characteristics of data cubes\n",
    "##### 1. Hierachical structure:\n",
    "\n",
    "  Each dimension in a data cube can have hierarchies. For instance, the time    dimension might have hierarchies like year, month, and day.\n",
    "##### 2. Multidiamensional Representation\n",
    "\n",
    "Data cubes organize data in multiple dimensions. For example, data cube might have dimensions such as time, products, and measurements (bands).\n",
    "##### 3. Online Analytical Processing\n",
    "\n",
    "Data cubes are often used in OLAP systems, which allow users to interactively analyze and explore multidimensional data. OLAP provides tools for slicing, dicing, drilling down, and rolling up data within the cube.\n",
    "##### 4. Data warehousing\n",
    "\n",
    "Data cubes are commonly employed in data warehousing environments. Data warehouses store large volumes of historical and current data, and data cubes provide an efficient way to organize and analyze this data.\n",
    "##### 5. Efficient Querying\n",
    "\n",
    "Data cubes enable efficient querying, particularly when dealing with large datasets. The hierarchical and pre-aggregated structure of data cubes allows for quick retrieval of specific information.\n",
    "##### 6. Complex Analysis\n",
    "\n",
    "Data cubes are suitable for complex analytical operations that involve multiple dimensions and measures. Users can gain insights into patterns, trends, and relationships within the data, enabling information driven decisions.\n",
    "##### 7. Data Exploration\n",
    "\n",
    "Users can explore data within a data cube by selecting dimensions and measures of interest. This exploration helps in gaining a deeper understanding of the underlying data patterns."
   ]
  },
  {
   "cell_type": "markdown",
   "id": "4f80ad76-b628-41d0-b35b-276af2208a02",
   "metadata": {},
   "source": [
    "## Getting started\n",
    "\n",
    "#####  Running (executing) a cell\n",
    "\n",
    "Jupyter Notebooks allow code to be separated into sections that can be executed independent of one another. These sections are called \"cells\".\n",
    "\n",
    "Python code is written into individual cells that can be executed by placing the cursor in the cell and pressing *Shift-Enter* on the keyboard or selecting the ► \"run\" button in the ribbon at the top of the notebook. These options will run a single cell at a time.\n",
    "\n",
    "If you wish to auto-run all cells in a notebook, navigate to the \"Run\" tab of the menu bar at the top of JupyterLab and select \"Run All Cells\" (or the option that best suits your needs). When you run a cell, you are executing that cell's content. Any output produced from running the cell will appear directly below it.\n",
    "\n",
    "Run the cell below:"
   ]
  },
  {
   "cell_type": "code",
   "execution_count": 2,
   "id": "cce2d49c-ad87-4c25-b3f1-28bb32b82cf3",
   "metadata": {},
   "outputs": [
    {
     "name": "stdout",
     "output_type": "stream",
     "text": [
      "Hello world !\n"
     ]
    }
   ],
   "source": [
    "print('Hello world !')"
   ]
  },
  {
   "cell_type": "markdown",
   "id": "545efd8f-1b0d-4b3d-9b12-092bf8123a15",
   "metadata": {
    "jp-MarkdownHeadingCollapsed": true,
    "tags": []
   },
   "source": [
    "### Cell status\n",
    "The [ ]: symbol to the left of each Code cell describes the state of the cell:\n",
    "\n",
    "  [ ]: means that the cell has not been run yet.\n",
    " \n",
    "  [*]: means that the cell is currently running.\n",
    " \n",
    "  [1]: means that the cell has finished running and was the first cell run.\n",
    "  \n",
    "The number indicates the order that the cells were run in."
   ]
  }
 ],
 "metadata": {
  "kernelspec": {
   "display_name": "Python 3 (ipykernel)",
   "language": "python",
   "name": "python3"
  },
  "language_info": {
   "codemirror_mode": {
    "name": "ipython",
    "version": 3
   },
   "file_extension": ".py",
   "mimetype": "text/x-python",
   "name": "python",
   "nbconvert_exporter": "python",
   "pygments_lexer": "ipython3",
   "version": "3.9.12"
  }
 },
 "nbformat": 4,
 "nbformat_minor": 5
}
