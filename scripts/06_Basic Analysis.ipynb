{
 "cells": [
  {
   "cell_type": "markdown",
   "id": "3a57e679-152f-4e10-9835-418f813bcaaa",
   "metadata": {},
   "source": [
    "## Import Libraries \n",
    "Before you start any analysis, you ought to import all the libraries that would aid you to perform your analysis."
   ]
  },
  {
   "cell_type": "code",
   "execution_count": 1,
   "id": "f9b3e047-7e95-4da3-a540-5fa469a83a61",
   "metadata": {},
   "outputs": [],
   "source": [
    "%matplotlib inline\n",
    "import datacube\n",
    "import odc.algo\n",
    "import matplotlib.pyplot as plt\n",
    "from datacube.utils.cog import write_cog\n",
    "from deafrica_tools.plotting import display_map, rgb"
   ]
  },
  {
   "cell_type": "code",
   "execution_count": 2,
   "id": "4be52e0c-7954-4cb0-b2e9-2fd1406d2ad0",
   "metadata": {},
   "outputs": [],
   "source": [
    "dc = datacube.Datacube(app=\"06_Basic_Analysis\",config = '/etc/datacube.conf')"
   ]
  },
  {
   "cell_type": "code",
   "execution_count": 3,
   "id": "1373c690-e8bb-4cfc-90e5-25e30973af7f",
   "metadata": {},
   "outputs": [],
   "source": [
    "# Set the central latitude and longitude\n",
    "central_lat = 0.5393\n",
    "central_lon = 36.2682\n",
    "\n",
    "# Set the buffer to load around the central coordinates\n",
    "buffer = 0.5\n",
    "\n",
    "# Compute the bounding box for the study area\n",
    "study_area_lat = (central_lat - buffer, central_lat + buffer)\n",
    "study_area_lon = (central_lon - buffer, central_lon + buffer)"
   ]
  },
  {
   "cell_type": "code",
   "execution_count": 4,
   "id": "816a20b0-cbca-4904-a397-f57bcc1f37a6",
   "metadata": {},
   "outputs": [
    {
     "name": "stderr",
     "output_type": "stream",
     "text": [
      "/opt/conda/lib/python3.9/site-packages/deafrica_tools/plotting.py:284: FutureWarning: This function is deprecated. See: https://pyproj4.github.io/pyproj/stable/gotchas.html#upgrading-to-pyproj-2-from-pyproj-1\n",
      "  all_longitude, all_latitude = transform(Proj(crs), Proj(\"EPSG:4326\"), all_x, all_y)\n"
     ]
    },
    {
     "data": {
      "text/html": [
       "<div style=\"width:100%;\"><div style=\"position:relative;width:100%;height:0;padding-bottom:60%;\"><span style=\"color:#565656\">Make this Notebook Trusted to load map: File -> Trust Notebook</span><iframe srcdoc=\"&lt;!DOCTYPE html&gt;\n",
       "&lt;html&gt;\n",
       "&lt;head&gt;\n",
       "    \n",
       "    &lt;meta http-equiv=&quot;content-type&quot; content=&quot;text/html; charset=UTF-8&quot; /&gt;\n",
       "    \n",
       "        &lt;script&gt;\n",
       "            L_NO_TOUCH = false;\n",
       "            L_DISABLE_3D = false;\n",
       "        &lt;/script&gt;\n",
       "    \n",
       "    &lt;style&gt;html, body {width: 100%;height: 100%;margin: 0;padding: 0;}&lt;/style&gt;\n",
       "    &lt;style&gt;#map {position:absolute;top:0;bottom:0;right:0;left:0;}&lt;/style&gt;\n",
       "    &lt;script src=&quot;https://cdn.jsdelivr.net/npm/leaflet@1.9.3/dist/leaflet.js&quot;&gt;&lt;/script&gt;\n",
       "    &lt;script src=&quot;https://code.jquery.com/jquery-1.12.4.min.js&quot;&gt;&lt;/script&gt;\n",
       "    &lt;script src=&quot;https://cdn.jsdelivr.net/npm/bootstrap@5.2.2/dist/js/bootstrap.bundle.min.js&quot;&gt;&lt;/script&gt;\n",
       "    &lt;script src=&quot;https://cdnjs.cloudflare.com/ajax/libs/Leaflet.awesome-markers/2.0.2/leaflet.awesome-markers.js&quot;&gt;&lt;/script&gt;\n",
       "    &lt;link rel=&quot;stylesheet&quot; href=&quot;https://cdn.jsdelivr.net/npm/leaflet@1.9.3/dist/leaflet.css&quot;/&gt;\n",
       "    &lt;link rel=&quot;stylesheet&quot; href=&quot;https://cdn.jsdelivr.net/npm/bootstrap@5.2.2/dist/css/bootstrap.min.css&quot;/&gt;\n",
       "    &lt;link rel=&quot;stylesheet&quot; href=&quot;https://netdna.bootstrapcdn.com/bootstrap/3.0.0/css/bootstrap.min.css&quot;/&gt;\n",
       "    &lt;link rel=&quot;stylesheet&quot; href=&quot;https://cdn.jsdelivr.net/npm/@fortawesome/fontawesome-free@6.2.0/css/all.min.css&quot;/&gt;\n",
       "    &lt;link rel=&quot;stylesheet&quot; href=&quot;https://cdnjs.cloudflare.com/ajax/libs/Leaflet.awesome-markers/2.0.2/leaflet.awesome-markers.css&quot;/&gt;\n",
       "    &lt;link rel=&quot;stylesheet&quot; href=&quot;https://cdn.jsdelivr.net/gh/python-visualization/folium/folium/templates/leaflet.awesome.rotate.min.css&quot;/&gt;\n",
       "    \n",
       "            &lt;meta name=&quot;viewport&quot; content=&quot;width=device-width,\n",
       "                initial-scale=1.0, maximum-scale=1.0, user-scalable=no&quot; /&gt;\n",
       "            &lt;style&gt;\n",
       "                #map_2078c1b57c52c5a4e831772a7996beba {\n",
       "                    position: relative;\n",
       "                    width: 100.0%;\n",
       "                    height: 100.0%;\n",
       "                    left: 0.0%;\n",
       "                    top: 0.0%;\n",
       "                }\n",
       "                .leaflet-container { font-size: 1rem; }\n",
       "            &lt;/style&gt;\n",
       "        \n",
       "&lt;/head&gt;\n",
       "&lt;body&gt;\n",
       "    \n",
       "    \n",
       "            &lt;div class=&quot;folium-map&quot; id=&quot;map_2078c1b57c52c5a4e831772a7996beba&quot; &gt;&lt;/div&gt;\n",
       "        \n",
       "&lt;/body&gt;\n",
       "&lt;script&gt;\n",
       "    \n",
       "    \n",
       "            var map_2078c1b57c52c5a4e831772a7996beba = L.map(\n",
       "                &quot;map_2078c1b57c52c5a4e831772a7996beba&quot;,\n",
       "                {\n",
       "                    center: [0.5392999999999999, 36.2682],\n",
       "                    crs: L.CRS.EPSG3857,\n",
       "                    zoom: 9,\n",
       "                    zoomControl: true,\n",
       "                    preferCanvas: false,\n",
       "                }\n",
       "            );\n",
       "\n",
       "            \n",
       "\n",
       "        \n",
       "    \n",
       "            var tile_layer_d407832b5d6e12f599a17e04c7721475 = L.tileLayer(\n",
       "                &quot;http://mt1.google.com/vt/lyrs=y\\u0026z={z}\\u0026x={x}\\u0026y={y}&quot;,\n",
       "                {&quot;attribution&quot;: &quot;Google&quot;, &quot;detectRetina&quot;: false, &quot;maxNativeZoom&quot;: 18, &quot;maxZoom&quot;: 18, &quot;minZoom&quot;: 0, &quot;noWrap&quot;: false, &quot;opacity&quot;: 1, &quot;subdomains&quot;: &quot;abc&quot;, &quot;tms&quot;: false}\n",
       "            ).addTo(map_2078c1b57c52c5a4e831772a7996beba);\n",
       "        \n",
       "    \n",
       "            var poly_line_4a9f643a93162c577e80ffc51073a51b = L.polyline(\n",
       "                [[0.0393, 35.7682], [0.0393, 36.7682], [1.0393, 36.7682], [1.0393, 35.7682], [0.0393, 35.7682]],\n",
       "                {&quot;bubblingMouseEvents&quot;: true, &quot;color&quot;: &quot;red&quot;, &quot;dashArray&quot;: null, &quot;dashOffset&quot;: null, &quot;fill&quot;: false, &quot;fillColor&quot;: &quot;red&quot;, &quot;fillOpacity&quot;: 0.2, &quot;fillRule&quot;: &quot;evenodd&quot;, &quot;lineCap&quot;: &quot;round&quot;, &quot;lineJoin&quot;: &quot;round&quot;, &quot;noClip&quot;: false, &quot;opacity&quot;: 0.8, &quot;smoothFactor&quot;: 1.0, &quot;stroke&quot;: true, &quot;weight&quot;: 3}\n",
       "            ).addTo(map_2078c1b57c52c5a4e831772a7996beba);\n",
       "        \n",
       "    \n",
       "                var lat_lng_popup_b3ae4c5131c42a799cf0b4e5db93a7c8 = L.popup();\n",
       "                function latLngPop(e) {\n",
       "                    lat_lng_popup_b3ae4c5131c42a799cf0b4e5db93a7c8\n",
       "                        .setLatLng(e.latlng)\n",
       "                        .setContent(&quot;Latitude: &quot; + e.latlng.lat.toFixed(4) +\n",
       "                                    &quot;&lt;br&gt;Longitude: &quot; + e.latlng.lng.toFixed(4))\n",
       "                        .openOn(map_2078c1b57c52c5a4e831772a7996beba);\n",
       "                    }\n",
       "                map_2078c1b57c52c5a4e831772a7996beba.on(&#x27;click&#x27;, latLngPop);\n",
       "            \n",
       "&lt;/script&gt;\n",
       "&lt;/html&gt;\" style=\"position:absolute;width:100%;height:100%;left:0;top:0;border:none !important;\" allowfullscreen webkitallowfullscreen mozallowfullscreen></iframe></div></div>"
      ],
      "text/plain": [
       "<folium.folium.Map at 0x7fd73c1efdc0>"
      ]
     },
     "execution_count": 4,
     "metadata": {},
     "output_type": "execute_result"
    }
   ],
   "source": [
    "display_map(x=study_area_lon, y=study_area_lat)"
   ]
  },
  {
   "cell_type": "markdown",
   "id": "993e0e2d-2a39-4e0b-9ba4-4d26eb818e93",
   "metadata": {},
   "source": [
    "## Step 2: Loading data\n",
    "\n",
    "When asking analysis questions about vegetation, it's useful to work with optical imagery, such as  Landsat.\n",
    "The Landsat  satellites have 30 metre resolution and go back to 1982, from landsat 4 to landsat 9. \n",
    "\n",
    "The code below sets up the required information to load the data."
   ]
  },
  {
   "cell_type": "code",
   "execution_count": 5,
   "id": "18d79f6e-8cfc-48d6-a23b-200096148664",
   "metadata": {},
   "outputs": [],
   "source": [
    "# Set the data source - s2a corresponds to Sentinel-2A\n",
    "set_product = \"landsat_sr_kenya\"\n",
    "\n"
   ]
  },
  {
   "cell_type": "code",
   "execution_count": 6,
   "id": "9b05fc14-c1ae-4d52-8ed6-9e0134117f01",
   "metadata": {},
   "outputs": [],
   "source": [
    "# Set the date range to load data over\n",
    "set_time = (\"2018-01-01\", \"2022-02-01\")\n",
    "\n"
   ]
  },
  {
   "cell_type": "code",
   "execution_count": 7,
   "id": "91c9ad7e-a82b-47b8-82b6-d190089517fa",
   "metadata": {},
   "outputs": [],
   "source": [
    "# Set the measurements/bands to load\n",
    "# For this analysis, we'll load the red, green, blue and near-infrared bands\n",
    "set_measurements = [\n",
    "    \"red\",\n",
    "    \"blue\",\n",
    "    \"green\",\n",
    "    \"nir\"\n",
    "]\n"
   ]
  },
  {
   "cell_type": "code",
   "execution_count": 8,
   "id": "c9c4c4f0-46fa-4089-a1cd-85fa011b35f7",
   "metadata": {},
   "outputs": [],
   "source": [
    "# Set the coordinate reference system and output resolution\n",
    "set_crs = 'EPSG:4326'\n",
    "set_resolution = (-0.0002, 0.0002)"
   ]
  },
  {
   "cell_type": "code",
   "execution_count": null,
   "id": "8267f953-ca66-4b60-8beb-a62378591725",
   "metadata": {},
   "outputs": [
    {
     "name": "stderr",
     "output_type": "stream",
     "text": [
      "/opt/conda/lib/python3.9/site-packages/datacube/utils/geometry/_base.py:623: ShapelyDeprecationWarning: The 'type' attribute is deprecated, and will be removed in the future. You can use the 'geom_type' attribute instead.\n",
      "  if geom.type in ['Point', 'MultiPoint']:\n",
      "/opt/conda/lib/python3.9/site-packages/datacube/utils/geometry/_base.py:626: ShapelyDeprecationWarning: The 'type' attribute is deprecated, and will be removed in the future. You can use the 'geom_type' attribute instead.\n",
      "  if geom.type in ['GeometryCollection', 'MultiPolygon', 'MultiLineString']:\n",
      "/opt/conda/lib/python3.9/site-packages/datacube/utils/geometry/_base.py:629: ShapelyDeprecationWarning: The 'type' attribute is deprecated, and will be removed in the future. You can use the 'geom_type' attribute instead.\n",
      "  if geom.type in ['LineString', 'LinearRing']:\n",
      "/opt/conda/lib/python3.9/site-packages/datacube/utils/geometry/_base.py:632: ShapelyDeprecationWarning: The 'type' attribute is deprecated, and will be removed in the future. You can use the 'geom_type' attribute instead.\n",
      "  if geom.type == 'Polygon':\n"
     ]
    }
   ],
   "source": [
    "dataset = dc.load(\n",
    "    product=set_product,\n",
    "    x=study_area_lon,\n",
    "    y=study_area_lat,\n",
    "    time=set_time,\n",
    "    measurements=set_measurements,\n",
    "    output_crs=set_crs,\n",
    "    resolution=set_resolution\n",
    ")"
   ]
  },
  {
   "cell_type": "code",
   "execution_count": 5,
   "id": "434b8287-4ac6-437e-9f23-59edc42c2412",
   "metadata": {},
   "outputs": [
    {
     "ename": "NameError",
     "evalue": "name 'dataset' is not defined",
     "output_type": "error",
     "traceback": [
      "\u001b[0;31m---------------------------------------------------------------------------\u001b[0m",
      "\u001b[0;31mNameError\u001b[0m                                 Traceback (most recent call last)",
      "Input \u001b[0;32mIn [5]\u001b[0m, in \u001b[0;36m<cell line: 1>\u001b[0;34m()\u001b[0m\n\u001b[0;32m----> 1\u001b[0m \u001b[38;5;28mprint\u001b[39m(\u001b[43mdataset\u001b[49m)\n",
      "\u001b[0;31mNameError\u001b[0m: name 'dataset' is not defined"
     ]
    }
   ],
   "source": [
    "print(dataset)"
   ]
  },
  {
   "cell_type": "markdown",
   "id": "370c9464-0bf8-45db-9431-e7e349535b7f",
   "metadata": {},
   "source": [
    "##  Plotting data\n",
    "\n",
    "After loading the data, it is useful to view it to understand the resolution, which observations are impacted by cloud cover, and whether there are any obvious differences between time steps.\n",
    "\n",
    "We use the `rgb()` function to plot the data loaded in the previous step.\n",
    "The `rgb()` function maps three data variables/measurements from the loaded dataset to the red, green and blue channels that are used to make a three-colour image.\n",
    "There are several parameters you can experiment with:\n",
    "\n",
    "* `time_step=n`\\\n",
    "This sets the time step you want to view. \n",
    "`n` can be any number from `0` to one fewer than the number of time steps you loaded. \n",
    "The number of time steps loaded is given in the print-out of the data, under the `Dimensions` heading. \n",
    "As an example, if under `Dimensions:` you see `time: 10`, then there are 6 time steps, and `time_step` can be any number between `0` and `9`.\n",
    "\n",
    "* `bands=[red_channel, green_channel, blue_channel]`\\\n",
    "This sets the measurements that you want to use to make the image.\n",
    "Any measurements can be mapped to the three channels, and different combinations highlight different features.\n",
    "Two common combinations are\n",
    "    * true colour: `bands = [\"red\", \"green\", \"blue\"]`\n",
    "    * false colour: `bands = [\"nir\", \"red\", \"green\"]`\n",
    " There are several false color composite, depending on the use and the spectral resolution of the sensor\n",
    "    "
   ]
  },
  {
   "cell_type": "code",
   "execution_count": null,
   "id": "0e0c07d4-2fc0-4a4f-8de7-17af70460c49",
   "metadata": {},
   "outputs": [],
   "source": [
    "# Set the time step to view\n",
    "time_step = 0"
   ]
  },
  {
   "cell_type": "code",
   "execution_count": null,
   "id": "8f1d5c4f-ce08-45b4-ba76-28706252bc4c",
   "metadata": {},
   "outputs": [],
   "source": [
    "# Set the band combination to plot(rgb)\n",
    "bands = [\"red\", \"green\", \"blue\"]\n",
    "\n",
    "# Generate the image by running the rgb function\n",
    "rgb(dataset, bands=bands, index=time_step, size=8)\n",
    "\n",
    "# Format the time stamp for use as the plot title\n",
    "time_string = str(dataset.time.isel(time=time_step).values).split('.')[0]  \n",
    "\n",
    "# Set the title and axis labels\n",
    "ax = plt.gca()\n",
    "ax.set_title(f\"Timestep {time_string}\", fontweight='bold', fontsize=16)\n",
    "ax.set_xlabel('Easting (m)', fontweight='bold')\n",
    "ax.set_ylabel('Northing (m)', fontweight='bold')\n",
    "\n",
    "# Display the plot\n",
    "plt.show()"
   ]
  },
  {
   "cell_type": "markdown",
   "id": "095598d1-fb67-4d9f-8f0c-92da692efb44",
   "metadata": {},
   "source": [
    "## Step 4: Calculate vegetation health\n",
    "\n",
    "While it's possible to identify vegetation in the RGB image, it can be helpful to have a quantitative index to describe the health of vegetation directly. \n",
    "\n",
    "In this case, the [Normalised Difference Vegetation Index](https://en.wikipedia.org/wiki/Normalized_difference_vegetation_index) (NDVI) can help identify areas of healthy vegetation.\n",
    "For remote sensing data such as satellite imagery, it is defined as\n",
    "\n",
    "$$\n",
    "\\begin{aligned}\n",
    "\\text{NDVI} & = \\frac{(\\text{NIR} - \\text{Red})}{(\\text{NIR} + \\text{Red})}, \\\\\n",
    "\\end{aligned}\n",
    "$$\n",
    "\n",
    "where $\\text{NIR}$ is the near-infrared band of the data, and $\\text{Red}$ is the red band.\n",
    "NDVI can take on values from -1 to 1; high values indicate healthy vegetation and negative values indicate non-vegetation (such as water). \n",
    "\n",
    "The following code calculates the top and bottom of the fraction separately, then computes the NDVI value directly from these components.\n",
    "The calculated NDVI values are stored as their own data array.\n",
    "\n",
    "> Note: Before we calculate NDVI, we need to convert the data type to `float32`, this will convert the nodata values in the original `uint16` dataset to `NaN`, and therefore ignore those values in the NDVI calculation."
   ]
  },
  {
   "cell_type": "code",
   "execution_count": null,
   "id": "5b7b5a6a-9847-4d3c-bb58-23ac2cc38a37",
   "metadata": {},
   "outputs": [],
   "source": [
    "# convert dataset to float32 datatype so no-data values are set to NaN\n",
    "dataset =  odc.algo.to_f32(dataset)"
   ]
  },
  {
   "cell_type": "code",
   "execution_count": null,
   "id": "a6fdaf19-8c4f-42fc-a2c0-ff9bd2bd63ef",
   "metadata": {},
   "outputs": [],
   "source": [
    "# Calculate the components that make up the NDVI calculation\n",
    "band_diff = dataset.nir - dataset.red\n",
    "band_sum = dataset.nir + dataset.red\n",
    "\n",
    "# Calculate NDVI and store it as a measurement in the original dataset\n",
    "ndvi = band_diff / band_sum"
   ]
  },
  {
   "cell_type": "markdown",
   "id": "779070cb-88c6-4590-a1a0-fa0efa1d3de1",
   "metadata": {},
   "source": [
    "After calculating the NDVI values, it is possible to plot them by adding the `.plot()` method to `ndvi` (the variable that the values are stored in).\n",
    "The code below will plot a single image, based on the time selected with the `ndvi_time_step` variable.\n",
    "Try changing this value to plot the NDVI map at different time steps.\n",
    "Do you notice any differences?\n",
    "\n",
    "> **Extension 1**: Sometimes, it is valuable to change the colour scale to something that helps with intuitively understanding the image.\n",
    "For example, the \"viridis\" colour map shows high values in greens/yellows (mapping to vegetation), and low values in blue (mapping to water).\n",
    "Try modifying the `.plot(cmap=\"RdYlGn\")` command below to use `cmap=\"viridis\"` instead."
   ]
  },
  {
   "cell_type": "code",
   "execution_count": null,
   "id": "618ecdab-a57d-4561-ad03-5d3bad50da80",
   "metadata": {},
   "outputs": [],
   "source": [
    "# Set the NDVI time step to view\n",
    "ndvi_time_step = 0\n",
    "\n",
    "# This is the simple way to plot\n",
    "# Note that high values are likely to be vegetation.\n",
    "plt.figure(figsize=(8, 8))\n",
    "ndvi.isel(time=ndvi_time_step).plot(cmap=\"RdYlGn\", vmin=0, vmax=1)\n",
    "plt.show()"
   ]
  },
  {
   "cell_type": "markdown",
   "id": "5d79e648-845d-4a58-ad40-bbe1ee775d45",
   "metadata": {},
   "source": [
    "> **Extension 2**: For the cell above, a single time step was selected using the `.isel()` method.\n",
    "It is possible to plot all time steps by removing the `.isel()` method, and modifying the `.plot()` method to be `.plot(col='time', col_wrap=3)` where `time` is the timesteps for the images.\n",
    "Plotting all of the time steps at once may make it easier to notice differences in vegetation over time."
   ]
  },
  {
   "cell_type": "code",
   "execution_count": null,
   "id": "e99d662c-5cf0-4710-b7c3-0214fc7071bd",
   "metadata": {},
   "outputs": [],
   "source": [
    "plt.figure(figsize=(8, 8))\n",
    "ndvi.plot(col='time', cmap=\"RdYlGn\", vmin=0, vmax=1, col_wrap=3)\n",
    "plt.show()"
   ]
  },
  {
   "cell_type": "markdown",
   "id": "2a458e12-dbd2-4a91-82a0-b9a8a5f90f6a",
   "metadata": {},
   "source": [
    "##  Exporting data\n",
    "\n",
    "Sometimes, you will want to analyse satellite imagery in a GIS program, such as QGIS.\n",
    "The `write_cog()` command from the Open Data Cube library allows loaded data to be exported to GeoTIFF, a commonly used file format for geospatial data. This example export an image based on the time_step provided.\n",
    "\n",
    "> **Note**: the saved file will appear in the same directory as this notebook, and it can be downloaded from here for later use."
   ]
  }
 ],
 "metadata": {
  "kernelspec": {
   "display_name": "Python 3 (ipykernel)",
   "language": "python",
   "name": "python3"
  },
  "language_info": {
   "codemirror_mode": {
    "name": "ipython",
    "version": 3
   },
   "file_extension": ".py",
   "mimetype": "text/x-python",
   "name": "python",
   "nbconvert_exporter": "python",
   "pygments_lexer": "ipython3",
   "version": "3.9.12"
  }
 },
 "nbformat": 4,
 "nbformat_minor": 5
}
