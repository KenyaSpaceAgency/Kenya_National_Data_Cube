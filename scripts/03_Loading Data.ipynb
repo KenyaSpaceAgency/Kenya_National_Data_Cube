{
 "cells": [
  {
   "cell_type": "markdown",
   "id": "b27ed921-5357-4b0a-94f0-cf091447e5c7",
   "metadata": {},
   "source": [
    "# Laoding data from KSA Datacube\n",
    "\n",
    "* **Products used:** landsat_sr_kenya\n",
    "\n",
    "* **Prerequisites:** Users of this notebook should have a basic understanding of:\n",
    "    * How to run a [Jupyter notebook](01_Jupyter_notebooks.ipynb)\n",
    "    * Inspecting available [KSA products and measurements](02_Products_and_measurements.ipynb)"
   ]
  },
  {
   "cell_type": "markdown",
   "id": "8ace381d-7e7e-49e0-8e23-20af402b3172",
   "metadata": {},
   "source": [
    "## Background\n",
    "\n",
    "To retrieve data from the [KSA] instance of the [Open Data Cube], it is necessary to formulate a data query specifying the what, where, and when of the desired data. Each query results in a [multi-dimensional xarray object] that encapsulates the requested data. A fundamental understanding of 'xarray' data structures is crucial, as they form the basis of the loaded data from the datacube. The manipulation, transformation, and visualization of 'xarray' objects empower datacube users to explore and analyze KSA datasets, allowing them to formulate and address scientific inquiries."
   ]
  },
  {
   "cell_type": "markdown",
   "id": "7b5e88e3-4d0b-474a-b303-5cf1aa31550d",
   "metadata": {},
   "source": [
    "## Description\n",
    "This notebook will introduce how to load data from the Kenya Space Agency datacube through the construction of a query and use of the `dc.load()` function.\n",
    "Topics covered include:\n",
    "\n",
    "* Loading data using `dc.load()`\n",
    "* Interpreting the resulting `xarray.Dataset` object\n",
    "    * Inspecting an individual `xarray.DataArray`\n",
    "* Customising parameters passed to the `dc.load()` function\n",
    "    * Loading specific measurements\n",
    "    * Loading data for coordinates in a custom coordinate reference system (CRS)\n",
    "    * Projecting data to a new CRS and spatial resolution \n",
    "    * Specifying a specific spatial resampling method\n",
    "* Loading data using a reusable dictionary query\n",
    "* Loading matching data from multiple products using `like`\n",
    "* Adding a progress bar to the data load\n",
    "\n",
    "***"
   ]
  },
  {
   "cell_type": "markdown",
   "id": "646f7f65-ed3f-465f-8195-a762f159e85a",
   "metadata": {},
   "source": [
    "## Getting started\n",
    "To run this introduction to loading data from KSA Datacube, run all the cells in the notebook starting with the \"Load packages\" cell. For help with running notebook cells, refer back to the [Introduction to Datacube]."
   ]
  },
  {
   "cell_type": "markdown",
   "id": "390517f6-925f-4f14-a6b3-f6de2d51cef2",
   "metadata": {},
   "source": [
    "### Load packages\n",
    "First we need to load the `datacube` package.\n",
    "This will allow us to query the datacube database and load some data. \n",
    "The `with_ui_cbk` function from `odc.ui` will allow us to show a progress bar when loading large amounts of data."
   ]
  },
  {
   "cell_type": "code",
   "execution_count": 2,
   "id": "74745c56-e839-4c08-8352-7e06b3d40615",
   "metadata": {},
   "outputs": [],
   "source": [
    "# Supress Warning \n",
    "import warnings\n",
    "warnings.filterwarnings('ignore')"
   ]
  },
  {
   "cell_type": "code",
   "execution_count": 3,
   "id": "5f5653d9-10ba-4595-8247-6cdb9702e0ee",
   "metadata": {},
   "outputs": [],
   "source": [
    "import datacube\n",
    "from odc.ui import with_ui_cbk"
   ]
  },
  {
   "cell_type": "markdown",
   "id": "a3c64421-316a-42d2-bb81-109c9c42c350",
   "metadata": {},
   "source": [
    "### Connect to the datacube\n",
    "We then need to connect to the datacube database.\n",
    "We will then be able to use the `dc` datacube object to load data.\n",
    "The `app` parameter is a unique name used to identify the notebook that does not have any effect on the analysis."
   ]
  },
  {
   "cell_type": "code",
   "execution_count": 4,
   "id": "5354b2d2-cef7-4d96-a5f0-e8ee60fe59ec",
   "metadata": {},
   "outputs": [],
   "source": [
    "dc = datacube.Datacube(app=\"Loading_data\",config = '/etc/datacube.conf')"
   ]
  },
  {
   "cell_type": "markdown",
   "id": "190ce0b9-23db-4378-996b-83577eaa5cf4",
   "metadata": {},
   "source": [
    "## Loading data using `dc.load()`\n",
    "\n",
    "    Loading data from the datacube uses the [dc.load()]\n",
    "    The function requires the following minimum arguments:\n",
    "\n",
    "    * `product`: A specific product to load (to revise KSA products, see the [Products and measurements notebook].\n",
    "    * `x`: Defines the spatial region in the *x* dimension. By default, the *x* and *y* arguments accept queries in a geographical co-ordinate system WGS84, identified by the EPSG code *4326*.\n",
    "    * `y`: Defines the spatial region in the *y* dimension. The dimensions ``longitude``/``latitude`` and ``x``/``y`` can be used interchangeably.\n",
    "    * `time`: Defines the temporal extent. The time dimension can be specified using a tuple of datetime objects or strings in the \"YYYY\", \"YYYY-MM\" or \"YYYY-MM-DD\" format. \n",
    "\n",
    "    An optional arguement which provides ease of use and ease of identification of the measurements to load is:\n",
    "\n",
    "    * `measurements:` This argument is used to provide a list of measurement names to load, as listed in `dc.list_measurements()`. \n",
    "    For satellite datasets, measurements contain data for each individual satellite band (e.g. red). \n",
    "    If not provided, all measurements for the product will be returned, and they will have the default names from the satellite data.\n",
    "\n",
    "    Let's run a query to load 2014 data from the KSA Datacube for part of Muranga County. \n",
    "    For this example, we can use the following parameters:\n",
    "\n",
    "    * `product`: `landsat_sr_kenya`\n",
    "    * `x`: (37.15100, 37.16133)\n",
    "    * 'y': (-0.7234160,-0.731236)\n",
    "    * ti: (\"2014-01-01, 2014-12-31\")\n",
    "    * measurements:'blue', 'green', 'red', 'nir'] \n",
    "Run the following cell to load all datasets from landsat_sr_kenya product that match this spatial and temporal extent:"
   ]
  },
  {
   "cell_type": "code",
   "execution_count": 13,
   "id": "aba503f2-f0b6-4751-b246-40f4a7466047",
   "metadata": {},
   "outputs": [
    {
     "name": "stdout",
     "output_type": "stream",
     "text": [
      "<xarray.Dataset>\n",
      "Dimensions:      (time: 37, latitude: 957, longitude: 1024)\n",
      "Coordinates:\n",
      "  * time         (time) datetime64[ns] 2020-03-14T07:48:49.984619 ... 2020-12...\n",
      "  * latitude     (latitude) float64 -0.5239 -0.5237 -0.5234 ... -0.2661 -0.2658\n",
      "  * longitude    (longitude) float64 35.98 35.98 35.98 ... 36.26 36.26 36.26\n",
      "    spatial_ref  int32 4326\n",
      "Data variables:\n",
      "    blue         (time, latitude, longitude) uint16 8128 8210 8318 ... 0 0 0\n",
      "    green        (time, latitude, longitude) uint16 9196 9096 9282 ... 0 0 0\n",
      "    red          (time, latitude, longitude) uint16 8754 9175 9387 ... 0 0 0\n",
      "    nir          (time, latitude, longitude) uint16 19176 14957 15336 ... 0 0 0\n",
      "Attributes:\n",
      "    crs:           EPSG:4326\n",
      "    grid_mapping:  spatial_ref\n"
     ]
    }
   ],
   "source": [
    "ds = dc.load(product=\"landsat_sr_kenya\",\n",
    "             output_crs = \"EPSG:4326\",\n",
    "             resolution = (0.00027,0.00027),\n",
    "             x = (36.2581, 35.982),\n",
    "             y = (-0.5239, -0.2657),\n",
    "             time = (\"2020-01-01\", \"2020-12-31\"),\n",
    "             measurements = ['blue', 'green', 'red', 'nir'])\n",
    "print(ds)"
   ]
  },
  {
   "cell_type": "markdown",
   "id": "6e0a5aaa-4378-4f17-9a23-966176c9109c",
   "metadata": {},
   "source": [
    "### Interpreting the resulting `xarray.Dataset`\n",
    "The variable `ds` has returned an `xarray.Dataset` containing all data that matched the spatial and temporal query parameters inputted into `dc.load`.\n",
    "\n",
    "*Dimensions* \n",
    "\n",
    "* Identifies the number of timesteps returned in the search (`time: 83`) as well as the number of pixels in the `x` and `y` directions of the data query.\n",
    "\n",
    "*Coordinates* \n",
    "\n",
    "* `time` identifies the date attributed to each returned timestep.\n",
    "* `x` and `y` are the coordinates for each pixel within the spatial bounds of your query.\n",
    "\n",
    "*Data variables*\n",
    "\n",
    "* These are the measurements available for the nominated product. \n",
    "For every date (`time`) returned by the query, the measured value at each pixel (`y`, `x`) is returned as an array for each measurement.\n",
    "Each data variable is itself an `xarray.DataArray` . \n",
    "\n",
    "*Attributes*\n",
    "\n",
    "* `crs` identifies the coordinate reference system (CRS) of the loaded data. \n",
    "* `resolution` identifies the resolution of the loaded data."
   ]
  },
  {
   "cell_type": "markdown",
   "id": "ca942bb9-ecee-4da0-bd37-79e096591f8c",
   "metadata": {},
   "source": [
    "### Inspecting an individual `xarray.DataArray`\n",
    "The `xarray.Dataset` we loaded above is itself a collection of individual `xarray.DataArray` objects that hold the actual data for each data variable/measurement. \n",
    "For example, all measurements listed under _Data variables_ above (e.g. `blue`, `green`, `red`, `nir`, `swir_1`, `swir_2`) are `xarray.DataArray` objects.\n",
    "\n",
    "We can inspect the data in these `xarray.DataArray` objects using either of the following syntaxes:\n",
    "```\n",
    "ds[\"measurement_name\"]\n",
    "```\n",
    "or:\n",
    "```\n",
    "ds.measurement_name\n",
    "```\n",
    "\n",
    "Being able to access data from individual data variables/measurements allows us to manipulate and analyse data from individual satellite bands or specific layers in a dataset. \n",
    "For example, we can access data from the near infra-red satellite band (i.e. `nir`):"
   ]
  },
  {
   "cell_type": "code",
   "execution_count": 6,
   "id": "da702cf8-6342-4809-9fc2-bed4d6a6a2a5",
   "metadata": {},
   "outputs": [
    {
     "name": "stdout",
     "output_type": "stream",
     "text": [
      "<xarray.DataArray 'green' (time: 37, latitude: 957, longitude: 1024)>\n",
      "array([[[ 9196,  9096,  9282, ...,  8978,  9046,  9038],\n",
      "        [ 9326,  9099,  9215, ...,  8978,  9046,  9038],\n",
      "        [ 9273,  9196,  9278, ...,  8984,  9083,  9081],\n",
      "        ...,\n",
      "        [ 9037,  8971,  9084, ...,  9000,  9444, 11433],\n",
      "        [ 8968,  9272,  9610, ...,  8201,  8443,  9720],\n",
      "        [ 9539,  9877, 10005, ...,  8050,  8035,  8336]],\n",
      "\n",
      "       [[    0,     0,     0, ...,     0,     0,     0],\n",
      "        [    0,     0,     0, ...,     0,     0,     0],\n",
      "        [    0,     0,     0, ...,     0,     0,     0],\n",
      "        ...,\n",
      "        [    0,     0,     0, ...,     0,     0,     0],\n",
      "        [    0,     0,     0, ...,     0,     0,     0],\n",
      "        [    0,     0,     0, ...,     0,     0,     0]],\n",
      "\n",
      "       [[    0,     0,     0, ...,     0,     0,     0],\n",
      "        [    0,     0,     0, ...,     0,     0,     0],\n",
      "        [    0,     0,     0, ...,     0,     0,     0],\n",
      "        ...,\n",
      "...\n",
      "        ...,\n",
      "        [    0,     0,     0, ...,     0,     0,     0],\n",
      "        [    0,     0,     0, ...,     0,     0,     0],\n",
      "        [    0,     0,     0, ...,     0,     0,     0]],\n",
      "\n",
      "       [[ 8938,  8970,  8859, ...,  8660,  8770,  8754],\n",
      "        [ 9243,  8936,  9117, ...,  8660,  8770,  8754],\n",
      "        [ 9271,  8940,  9182, ...,  8603,  8777,  8776],\n",
      "        ...,\n",
      "        [ 8404,  8397,  8402, ...,  8957,  8664,  8639],\n",
      "        [ 8548,  8866,  9331, ...,  8702,  8513,  8834],\n",
      "        [ 8951,  9429,  9604, ...,  8559,  8482,  8953]],\n",
      "\n",
      "       [[    0,     0,     0, ...,     0,     0,     0],\n",
      "        [    0,     0,     0, ...,     0,     0,     0],\n",
      "        [    0,     0,     0, ...,     0,     0,     0],\n",
      "        ...,\n",
      "        [    0,     0,     0, ...,     0,     0,     0],\n",
      "        [    0,     0,     0, ...,     0,     0,     0],\n",
      "        [    0,     0,     0, ...,     0,     0,     0]]], dtype=uint16)\n",
      "Coordinates:\n",
      "  * time         (time) datetime64[ns] 2020-03-14T07:48:49.984619 ... 2020-12...\n",
      "  * latitude     (latitude) float64 -0.5239 -0.5237 -0.5234 ... -0.2661 -0.2658\n",
      "  * longitude    (longitude) float64 35.98 35.98 35.98 ... 36.26 36.26 36.26\n",
      "    spatial_ref  int32 4326\n",
      "Attributes:\n",
      "    units:         1\n",
      "    nodata:        0\n",
      "    crs:           EPSG:4326\n",
      "    grid_mapping:  spatial_ref\n"
     ]
    }
   ],
   "source": [
    "print(ds.green)"
   ]
  },
  {
   "cell_type": "markdown",
   "id": "2eb69d05-131f-44b4-b59b-b7d862712286",
   "metadata": {},
   "source": [
    "## Customising the `dc.load()` function\n",
    "\n",
    "The `dc.load()` function can be tailored to refine a query.\n",
    "\n",
    "Customisation options include:\n",
    "\n",
    "* `measurements:` This argument is used to provide a list of measurement names to load, as listed in `dc.list_measurements()`. \n",
    "For satellite datasets, measurements contain data for each individual satellite band (e.g. near infrared). \n",
    "If not provided, all measurements for the product will be returned.\n",
    "* `crs:` The coordinate reference system (CRS) of the query's `x` and `y` coordinates is assumed to be `WGS84`/`EPSG:4326` unless the `crs` field is supplied, even if the stored data is in another projection or the `output_crs` is specified. \n",
    "The `crs` parameter is required if your query's coordinates are in any other CRS.\n",
    "* `group_by:` Satellite datasets based around scenes can have multiple observations per day with slightly different time stamps as the satellite collects data along its path.\n",
    "These observations can be combined by reducing the `time` dimension to the day level using `group_by=solar_day`.\n",
    "* `output_crs` and `resolution`: To reproject or change the resolution the data, supply the `output_crs` and `resolution` fields.    \n",
    "* `resampling`: This argument allows you to specify a custom spatial resampling method to use when data is reprojected into a different CRS. \n"
   ]
  },
  {
   "cell_type": "markdown",
   "id": "74a28744-9969-4338-9922-f978468140cc",
   "metadata": {},
   "source": [
    "### Specifying measurements\n",
    "By default, `dc.load()` will load *all* measurements in a product.\n",
    "\n",
    "To load data from the `red`, `green` and `blue` satellite bands only, we can add `measurements=[\"red\", \"green\", \"blue\"]` to our query:"
   ]
  },
  {
   "cell_type": "code",
   "execution_count": 8,
   "id": "f5637e54-53f7-40ce-9aae-e40bb169e931",
   "metadata": {},
   "outputs": [
    {
     "name": "stdout",
     "output_type": "stream",
     "text": [
      "<xarray.Dataset>\n",
      "Dimensions:      (time: 37, latitude: 957, longitude: 1024)\n",
      "Coordinates:\n",
      "  * time         (time) datetime64[ns] 2020-03-14T07:48:49.984619 ... 2020-12...\n",
      "  * latitude     (latitude) float64 -0.2658 -0.2661 -0.2664 ... -0.5237 -0.5239\n",
      "  * longitude    (longitude) float64 35.98 35.98 35.98 ... 36.26 36.26 36.26\n",
      "    spatial_ref  int32 4326\n",
      "Data variables:\n",
      "    blue         (time, latitude, longitude) uint16 8159 8296 8510 ... 0 0 0\n",
      "    green        (time, latitude, longitude) uint16 9539 9877 10005 ... 0 0 0\n",
      "    red          (time, latitude, longitude) uint16 9052 9400 9530 ... 0 0 0\n",
      "Attributes:\n",
      "    crs:           EPSG:4326\n",
      "    grid_mapping:  spatial_ref\n"
     ]
    }
   ],
   "source": [
    "ds_rgb = dc.load(product=\"landsat_sr_kenya\",\n",
    "             output_crs = \"EPSG:4326\",\n",
    "             resolution = (-0.00027,0.00027),\n",
    "             x = (36.2581, 35.982),\n",
    "             y = (-0.5239, -0.2657),\n",
    "             time = (\"2020-01-01\", \"2020-12-31\"),\n",
    "             measurements = ['blue', 'green', 'red'])\n",
    "\n",
    "print(ds_rgb)"
   ]
  },
  {
   "cell_type": "markdown",
   "id": "3794f904-cd7a-4eb6-837b-fd6470d6509b",
   "metadata": {},
   "source": [
    "## Loading data using the query dictionary syntax\n",
    "It is often useful to re-use a set of query parameters to load data from multiple products.\n",
    "To achieve this, we can load data using the \"query dictionary\" syntax.\n",
    "This involves placing the query parameters we used to load data above inside a Python dictionary object which we can re-use for multiple data loads:"
   ]
  },
  {
   "cell_type": "code",
   "execution_count": 11,
   "id": "0ea3bd9e-4df9-4ad2-a3e8-68f59b0d30f8",
   "metadata": {},
   "outputs": [],
   "source": [
    "query = {\"x\" : (36.2581, 35.982),\n",
    "         \"y\" : (-0.5239, -0.2657),\n",
    "         \"output_crs\": 'EPSG:4326',\n",
    "         \"resolution\": (-0.00027,0.00027),\n",
    "         \"time\": (\"2020-01-01\", \"2020-12-31\")}"
   ]
  },
  {
   "cell_type": "markdown",
   "id": "5cdbfcb0-5722-436f-94b7-caf85ca44c60",
   "metadata": {},
   "source": [
    "We can then use this query dictionary object as an input to `dc.load()`. \n",
    "\n",
    "> The `**` syntax below is Python's \"keyword argument unpacking\" operator.\n",
    "This operator takes the named query parameters listed in the dictionary we created, and \"unpacks\" them into the `dc.load()` function as new arguments. \n",
    "For more information about unpacking operators, refer to the [Python documentation](https://docs.python.org/3/tutorial/controlflow.html#unpacking-argument-lists)"
   ]
  },
  {
   "cell_type": "code",
   "execution_count": 12,
   "id": "aa4f0235-f9e7-4589-8e5f-94cf81f72f6d",
   "metadata": {},
   "outputs": [
    {
     "name": "stdout",
     "output_type": "stream",
     "text": [
      "<xarray.Dataset>\n",
      "Dimensions:        (time: 37, latitude: 957, longitude: 1024)\n",
      "Coordinates:\n",
      "  * time           (time) datetime64[ns] 2020-03-14T07:48:49.984619 ... 2020-...\n",
      "  * latitude       (latitude) float64 -0.2658 -0.2661 ... -0.5237 -0.5239\n",
      "  * longitude      (longitude) float64 35.98 35.98 35.98 ... 36.26 36.26 36.26\n",
      "    spatial_ref    int32 4326\n",
      "Data variables:\n",
      "    sr_b1          (time, latitude, longitude) uint16 7891 7936 8175 ... 0 0 0\n",
      "    sr_b2          (time, latitude, longitude) uint16 8159 8296 8510 ... 0 0 0\n",
      "    sr_b3          (time, latitude, longitude) uint16 9539 9877 10005 ... 0 0 0\n",
      "    sr_b4          (time, latitude, longitude) uint16 9052 9400 9530 ... 0 0 0\n",
      "    sr_b5          (time, latitude, longitude) uint16 20854 21311 20983 ... 0 0\n",
      "    sr_b6          (time, latitude, longitude) uint16 14245 15061 15405 ... 0 0\n",
      "    sr_b7          (time, latitude, longitude) uint16 10746 11163 11385 ... 0 0\n",
      "    qa_pixel       (time, latitude, longitude) uint16 21824 21824 21824 ... 1 1\n",
      "    qa_radsat      (time, latitude, longitude) uint16 0 0 0 0 0 0 ... 0 0 0 0 0\n",
      "    sr_qa_aerosol  (time, latitude, longitude) uint8 160 160 160 96 ... 1 1 1 1\n",
      "Attributes:\n",
      "    crs:           EPSG:4326\n",
      "    grid_mapping:  spatial_ref\n"
     ]
    }
   ],
   "source": [
    "ds = dc.load(product=\"landsat_sr_kenya\",\n",
    "             **query)\n",
    "\n",
    "print(ds)"
   ]
  },
  {
   "cell_type": "markdown",
   "id": "eb66d172-13ff-45fc-873a-3a317ff73ca4",
   "metadata": {},
   "source": [
    "## Recommended next steps\n",
    "\n",
    "For more advanced information about working with Jupyter Notebooks or JupyterLab, you can explore [JupyterLab documentation page](https://jupyterlab.readthedocs.io/en/stable/user/notebook.html).\n",
    "\n",
    "To continue working through the notebooks in this beginner's guide, the following notebooks are designed to be worked through in the following order:\n",
    "\n",
    "1. Introduction to Datacube\n",
    "2. Products and Measurements\n",
    "3. **Loading data (this notebook)**\n",
    "4. Plotting\n",
    "5. Performing a basic analysis\n",
    "6. Introduction to numpy\n",
    "7. Introduction to xarray\n",
    "8. Parallel processing with Dask\n"
   ]
  },
  {
   "cell_type": "code",
   "execution_count": null,
   "id": "7d736f69-802b-4ff3-8f97-dc9394427894",
   "metadata": {},
   "outputs": [],
   "source": []
  }
 ],
 "metadata": {
  "kernelspec": {
   "display_name": "Python 3 (ipykernel)",
   "language": "python",
   "name": "python3"
  },
  "language_info": {
   "codemirror_mode": {
    "name": "ipython",
    "version": 3
   },
   "file_extension": ".py",
   "mimetype": "text/x-python",
   "name": "python",
   "nbconvert_exporter": "python",
   "pygments_lexer": "ipython3",
   "version": "3.9.12"
  }
 },
 "nbformat": 4,
 "nbformat_minor": 5
}
